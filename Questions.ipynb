{
 "cells": [
  {
   "cell_type": "code",
   "execution_count": null,
   "id": "e3e30555",
   "metadata": {},
   "outputs": [
    {
     "name": "stdout",
     "output_type": "stream",
     "text": [
      "Adjacency List:\n",
      "A -> ['B', 'C']\n",
      "B -> ['A', 'D']\n",
      "C -> ['A', 'D']\n",
      "D -> ['B', 'C']\n"
     ]
    }
   ],
   "source": [
    "#QUESTION :-1\n",
    "\n",
    "# Edge List se Adjacency List banane wala function\n",
    "def edgeList_se_adjList(edge_list):\n",
    "    adj_list = {}\n",
    "\n",
    "    for edge in edge_list:\n",
    "        u, v = edge\n",
    "\n",
    "        # u ke neighbours me v add karo\n",
    "        if u not in adj_list:\n",
    "            adj_list[u] = []\n",
    "        adj_list[u].append(v)\n",
    "\n",
    "        # v ke neighbours me u bhi add karo (undirected graph ke liye)\n",
    "        if v not in adj_list:\n",
    "            adj_list[v] = []\n",
    "        adj_list[v].append(u)\n",
    "\n",
    "    return adj_list\n",
    "\n",
    "# Example edge list\n",
    "edges = [('A', 'B'), ('A', 'C'), ('B', 'D'), ('C', 'D')]\n",
    "\n",
    "# Call the function\n",
    "adjacency_list = edgeList_se_adjList(edges)\n",
    "\n",
    "# Print the output\n",
    "print(\"Adjacency List:\")\n",
    "for node in adjacency_list:\n",
    "    print(node, \"->\", adjacency_list[node])\n"
   ]
  },
  {
   "cell_type": "code",
   "execution_count": null,
   "id": "8f1a3cab",
   "metadata": {},
   "outputs": [
    {
     "name": "stdout",
     "output_type": "stream",
     "text": [
      "Adjacency List: {'Sandhya': ['Gaurav', 'Divyanshi'], 'Gaurav': ['Sandhya', 'Divyanshi'], 'Divyanshi': ['Gaurav', 'Sandhya']}\n",
      "Matrix:\n",
      "[0, 1, 1]\n",
      "[1, 0, 1]\n",
      "[1, 1, 0]\n"
     ]
    }
   ],
   "source": [
    "\n",
    "# QUESTION :-2\n",
    "\n",
    "# Adjacency List to Edge List\n",
    "def adjList__edgeList(adj):\n",
    "    edges = []\n",
    "    for u in adj:\n",
    "        for v in adj[u]:\n",
    "            if (v, u) not in edges:\n",
    "                edges.append((u, v))\n",
    "    return edges\n",
    "\n",
    "# Edge List to Adjacency List\n",
    "def edgeList_se_adjList(edge_list):\n",
    "    adj = {}\n",
    "    for u, v in edge_list:\n",
    "        adj.setdefault(u, []).append(v)\n",
    "        adj.setdefault(v, []).append(u)\n",
    "    return adj\n",
    "\n",
    "# Adjacency List to Matrix\n",
    "def adjList_se_matrix(adj):\n",
    "    nodes = sorted(adj.keys())\n",
    "    idx = {node: i for i, node in enumerate(nodes)}\n",
    "    size = len(nodes)\n",
    "    matrix = [[0]*size for _ in range(size)]\n",
    "    for u in adj:\n",
    "        for v in adj[u]:\n",
    "            matrix[idx[u]][idx[v]] = 1\n",
    "    return matrix, nodes\n",
    "\n",
    "# Example\n",
    "edges = [('Sandhya', 'Gaurav'), ('Gaurav', 'Divyanshi'), ('Divyanshi', 'Sandhya')]\n",
    "adj_list = edgeList_se_adjList(edges)\n",
    "matrix, names = adjList_se_matrix(adj_list)\n",
    "\n",
    "print(\"Adjacency List:\", adj_list)\n",
    "print(\"Matrix:\")\n",
    "for row in matrix:\n",
    "    print(row)\n"
   ]
  },
  {
   "cell_type": "code",
   "execution_count": 6,
   "id": "5409d83a",
   "metadata": {},
   "outputs": [],
   "source": [
    "#QUESTION :-3\n",
    "\n",
    "# Given a graph and two vertices, check if they are adjacent. \n",
    "\n",
    "def adjacent_hai_ya_nhi(graph, u, v):\n",
    "    return v in graph.get(u, [])\n"
   ]
  },
  {
   "cell_type": "code",
   "execution_count": null,
   "id": "6cf1aaa9",
   "metadata": {},
   "outputs": [
    {
     "name": "stdout",
     "output_type": "stream",
     "text": [
      "True\n",
      "False\n"
     ]
    }
   ],
   "source": [
    "#QUESTION :-4\n",
    "\n",
    "#Check if a graph is complete.\n",
    "\n",
    "def pura_graph_hai_kya(graph):\n",
    "    n = len(graph)\n",
    "    for node in graph:\n",
    "        if len(graph[node]) != n - 1:\n",
    "            return False\n",
    "    return True\n",
    "\n",
    "# Example\n",
    "g1 = {'Sand': ['Guu', 'Chuzi'], 'Guu': ['P', 'R'], 'R': ['P', 'Q']}\n",
    "g2 = {'Sand': ['Guu'], 'Chuzi': ['P'], 'R': []}\n",
    "print(pura_graph_hai_kya(g1))  # True\n",
    "print(pura_graph_hai_kya(g2))  #False\n"
   ]
  },
  {
   "cell_type": "code",
   "execution_count": null,
   "id": "552cb94d",
   "metadata": {},
   "outputs": [
    {
     "name": "stdout",
     "output_type": "stream",
     "text": [
      "False\n"
     ]
    }
   ],
   "source": [
    "#QUESTION :-5\n",
    "\n",
    "# Check if a graph is connected.\n",
    "\n",
    "def graph_juda_hua_hai_kya(graph):\n",
    "    visited = set()\n",
    "\n",
    "    def dfs(node):\n",
    "        visited.add(node)\n",
    "        for nei in graph[node]:\n",
    "            if nei not in visited:\n",
    "                dfs(nei)\n",
    "\n",
    "    dfs(next(iter(graph)))\n",
    "    return len(visited) == len(graph)\n",
    "\n",
    "# Example\n",
    "g = {\n",
    "    'INDORE': ['Agra'],\n",
    "    'Agra': ['INDORE', 'BARABANKI'],\n",
    "    'BARABANKI': ['Agra'],\n",
    "    'Lucknow': []\n",
    "}\n",
    "print(graph_juda_hua_hai_kya(g))  # False\n"
   ]
  },
  {
   "cell_type": "code",
   "execution_count": null,
   "id": "6f5939ff",
   "metadata": {},
   "outputs": [
    {
     "name": "stdout",
     "output_type": "stream",
     "text": [
      "Path\n",
      "Walk\n",
      "None\n"
     ]
    }
   ],
   "source": [
    "#QUESTION :- 6\n",
    "\n",
    "# Given a graph and a list of vertices, check if it forms a walk, or a trail or a path or none of these.\n",
    "\n",
    "def kis_type_ka_chakkar_hai(graph, vertices):\n",
    "    edge_set = set()\n",
    "    for i in range(len(vertices)-1):\n",
    "        u, v = vertices[i], vertices[i+1]\n",
    "        if v not in graph.get(u, []):\n",
    "            return \"None\"\n",
    "        edge = tuple(sorted((u, v)))\n",
    "        edge_set.add(edge)\n",
    "\n",
    "    if len(edge_set) < len(vertices) - 1:\n",
    "        return \"Walk\"\n",
    "    elif len(set(vertices)) == len(vertices):\n",
    "        return \"Path\"\n",
    "    else:\n",
    "        return \"Trail\"\n",
    "\n",
    "\n",
    "# Example\n",
    "g = {'Gaur': ['sandhu'], 'sandhu': ['Gaur', 'C'], 'C': ['sandhu']}\n",
    "print(kis_type_ka_chakkar_hai(g, ['Gaur', 'sandhu', 'C']))  # Path\n",
    "print(kis_type_ka_chakkar_hai(g, ['Gaur', 'sandhu', 'Gaur']))  # Walk\n",
    "print(kis_type_ka_chakkar_hai(g, ['Gaur', 'C']))       # None "
   ]
  },
  {
   "cell_type": "code",
   "execution_count": 15,
   "id": "94c4ac6e",
   "metadata": {},
   "outputs": [
    {
     "name": "stdout",
     "output_type": "stream",
     "text": [
      "True\n"
     ]
    }
   ],
   "source": [
    "# QUESTION :-7\n",
    "\n",
    "#Check if a given graph is a tree\n",
    "\n",
    "def sach_me_tree_hai_kya(graph):\n",
    "    visited = set()\n",
    "\n",
    "    def dfs(node, parent):\n",
    "        visited.add(node)\n",
    "        for nei in graph[node]:\n",
    "            if nei not in visited:\n",
    "                if not dfs(nei, node):\n",
    "                    return False\n",
    "            elif nei != parent:\n",
    "                return False\n",
    "        return True\n",
    "\n",
    "    start = next(iter(graph))\n",
    "    return dfs(start, None) and len(visited) == len(graph)\n",
    "\n",
    "\n",
    "# Example\n",
    "tree = {'1': ['2', '3'], '2': ['1'], '3': ['1']}\n",
    "print( sach_me_tree_hai_kya(tree))  # True"
   ]
  },
  {
   "cell_type": "code",
   "execution_count": 17,
   "id": "e07caa2d",
   "metadata": {},
   "outputs": [
    {
     "name": "stdout",
     "output_type": "stream",
     "text": [
      "{'SANDHU': ['GAUR'], 'GAUR': ['SANDHU', 'CHUZI'], 'CHUZI': ['GAUR']}\n"
     ]
    }
   ],
   "source": [
    "# QUESTION :- 8\n",
    "\n",
    "#Given a connected cyclic graph, find its spanning tree.\n",
    "\n",
    "def graph_se_spanning_tree_banao(graph):\n",
    "    tree = {v: [] for v in graph}\n",
    "    visited = set()\n",
    "\n",
    "    def dfs(node):\n",
    "        visited.add(node)\n",
    "        for nei in graph[node]:\n",
    "            if nei not in visited:\n",
    "                tree[node].append(nei)\n",
    "                tree[nei].append(node)\n",
    "                dfs(nei)\n",
    "\n",
    "    dfs(next(iter(graph)))\n",
    "    return tree\n",
    "\n",
    "\n",
    "# Example\n",
    "OYEE= {\n",
    "    'SANDHU': ['GAUR', 'CHUZI'],\n",
    "    'GAUR': ['SANDHU', 'CHUZI'],\n",
    "    'CHUZI': ['SANDHU', 'GAUR']\n",
    "}\n",
    "print(graph_se_spanning_tree_banao(OYEE))\n",
    "\n"
   ]
  },
  {
   "cell_type": "code",
   "execution_count": 20,
   "id": "e065be57",
   "metadata": {},
   "outputs": [
    {
     "name": "stdout",
     "output_type": "stream",
     "text": [
      "2\n"
     ]
    }
   ],
   "source": [
    "#QUESTION :-9 \n",
    "\n",
    "# Given a tree, find the number of leaf nodes.\n",
    "\n",
    "def leaf_nodes(tree):\n",
    "    return sum(1 for node in tree if len(tree[node]) == 1)\n",
    "\n",
    "# Example\n",
    "tree_leaf = {'s': ['n', 'o'], 'n': ['s'], 'o': ['s']}\n",
    "print(leaf_nodes(tree_leaf))  # 2"
   ]
  },
  {
   "cell_type": "code",
   "execution_count": 21,
   "id": "a3b5fdce",
   "metadata": {},
   "outputs": [
    {
     "name": "stdout",
     "output_type": "stream",
     "text": [
      "True\n"
     ]
    }
   ],
   "source": [
    "# QUESTION :-10\n",
    "\n",
    "# Given a tree, check if it's a binary tree.\n",
    "\n",
    "def binary_tree_H_YA_nhi(tree):\n",
    "    return all(len(tree[node]) <= 2 for node in tree)\n",
    "\n",
    "# Example\n",
    "bt = {'8': ['9', '7'], '9': ['8'], '7': ['8']}\n",
    "print(binary_tree_H_YA_nhi(bt))  # True"
   ]
  },
  {
   "cell_type": "code",
   "execution_count": null,
   "id": "b16709b8",
   "metadata": {},
   "outputs": [
    {
     "name": "stdout",
     "output_type": "stream",
     "text": [
      "4\n"
     ]
    }
   ],
   "source": [
    "# QUESTION :-11\n",
    "\n",
    "# Given a tree, find its height.\n",
    "\n",
    "def tree_height(tree, root):\n",
    "    visite_krr_liya = set()\n",
    "\n",
    "    def dfs(node_or_kya):\n",
    "        visite_krr_liya.add(node_or_kya)\n",
    "        heights = [dfs(child) for child in tree[node_or_kya] if child not in visite_krr_liya]\n",
    "        return 1 + max(heights, default=0)\n",
    "\n",
    "    return dfs(root)\n",
    "\n",
    "# Example\n",
    "tree = {'A': ['B', 'C'], 'B': ['A'], 'C': ['A', 'D'], 'D': ['C']}\n",
    "print(tree_height(tree, 'B'))  # 4\n"
   ]
  },
  {
   "cell_type": "code",
   "execution_count": null,
   "id": "f9242f35",
   "metadata": {},
   "outputs": [
    {
     "name": "stdout",
     "output_type": "stream",
     "text": [
      "3\n"
     ]
    }
   ],
   "source": [
    "# QUESTION :-12\n",
    "\n",
    "# Given a tree, find its depth.\n",
    "\n",
    "def node_kitni_gehraai_pe_hai(tree, root, target):\n",
    "    def dfS(node, depth, parent):\n",
    "        if node == target:\n",
    "            return depth\n",
    "        for nei in tree[node]:\n",
    "            if nei != parent:\n",
    "                d = dfS(nei, depth+1, node)\n",
    "                if d != -1:\n",
    "                    return d\n",
    "        return -1\n",
    "\n",
    "    return dfS(root, 0, None)\n",
    "\n",
    "\n",
    "# Example\n",
    "tree = {'A': ['B', 'C'], 'B': ['A'], 'C': ['A', 'D'], 'D': ['C']}\n",
    "print(node_kitni_gehraai_pe_hai(tree, 'D', 'B'))  # 3"
   ]
  }
 ],
 "metadata": {
  "kernelspec": {
   "display_name": "Python 3",
   "language": "python",
   "name": "python3"
  },
  "language_info": {
   "codemirror_mode": {
    "name": "ipython",
    "version": 3
   },
   "file_extension": ".py",
   "mimetype": "text/x-python",
   "name": "python",
   "nbconvert_exporter": "python",
   "pygments_lexer": "ipython3",
   "version": "3.12.10"
  }
 },
 "nbformat": 4,
 "nbformat_minor": 5
}
